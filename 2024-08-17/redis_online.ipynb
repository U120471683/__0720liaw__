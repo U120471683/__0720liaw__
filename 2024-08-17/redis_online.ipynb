{
 "cells": [
  {
   "cell_type": "code",
   "execution_count": 23,
   "metadata": {},
   "outputs": [
    {
     "data": {
      "text/plain": [
       "True"
      ]
     },
     "execution_count": 23,
     "metadata": {},
     "output_type": "execute_result"
    }
   ],
   "source": [
    "\n",
    "#redis连接测试 \n",
    "\n",
    "import redis #导入redis模块 \n",
    "\n",
    "connection = redis.Redis(host='192.168.1.125',port=6379) #连接redis server \n",
    "connection.ping() #测试是否连接成功"
   ]
  },
  {
   "cell_type": "code",
   "execution_count": null,
   "metadata": {},
   "outputs": [],
   "source": [
    "\n",
    "import paho.mqtt.client as mqtt\n",
    "import redis\n",
    "\n",
    "#redis_conn = redis.Redis(host='192.168.1.125', port=6379) #连接redis server \n",
    "redis_conn = redis.Redis(host='192.168.1.125', port=6379,password='raspberry')\n",
    "#print(redis_conn.ping())   #测试是否连接成功\n",
    "redis_conn.ping()  #测试是否连接成功"
   ]
  }
 ],
 "metadata": {
  "kernelspec": {
   "display_name": "venv1",
   "language": "python",
   "name": "python3"
  },
  "language_info": {
   "codemirror_mode": {
    "name": "ipython",
    "version": 3
   },
   "file_extension": ".py",
   "mimetype": "text/x-python",
   "name": "python",
   "nbconvert_exporter": "python",
   "pygments_lexer": "ipython3",
   "version": "3.11.9"
  }
 },
 "nbformat": 4,
 "nbformat_minor": 2
}
